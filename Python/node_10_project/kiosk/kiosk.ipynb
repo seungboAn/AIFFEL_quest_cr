{
  "nbformat": 4,
  "nbformat_minor": 0,
  "metadata": {
    "colab": {
      "provenance": []
    },
    "kernelspec": {
      "name": "python3",
      "display_name": "Python 3"
    },
    "language_info": {
      "name": "python"
    }
  },
  "cells": [
    {
      "cell_type": "code",
      "source": [
        "from kiosk import Kiosk\n",
        "\n",
        "if __name__ == \"__main__\":\n",
        "    kiosk = Kiosk()\n",
        "\n",
        "    # 원하는 함수의 주석을 지워서 사용해 주세요.\n",
        "    kiosk.menu_print()\n",
        "    kiosk.menu_select()\n",
        "    kiosk.pay()\n",
        "    kiosk.table()"
      ],
      "metadata": {
        "colab": {
          "base_uri": "https://localhost:8080/"
        },
        "id": "av90NlMg2kMi",
        "outputId": "e7433f6e-f87f-428f-cef0-df41edbf0aba"
      },
      "execution_count": 2,
      "outputs": [
        {
          "output_type": "stream",
          "name": "stdout",
          "text": [
            "1 americano: 2000원\n",
            "2 latte: 3000원\n",
            "3 mocha: 3000원\n",
            "4 yuza_tea: 2500원\n",
            "5 green_tea: 2500원\n",
            "6 choco_latte: 3000원\n",
            "음료의 번호를 입력해 주세요: 1\n",
            "ICE는 1번 HOT은 2번을 선택해 주세요: 2\n",
            "HOT americano : 2000원\n",
            "추가 주문은 음료 번호를, 지불은 0을 누르세요: 1\n",
            "ICE는 1번 HOT은 2번을 선택해 주세요: 1\n",
            "ICE americano : 2000원\n",
            "추가 주문은 음료 번호를, 지불은 0을 누르세요: 0\n",
            "['HOT americano : 2000원', 'ICE americano : 2000원']\n",
            "결제 방법을 선택해 주세요: 3\n",
            "잘못된 옵션입니다. 1 ~ 2 중에서 입력해 주세요.\n",
            "결제 방법을 선택해 주세요: 1\n",
            "직원을 호출하겠습니다.\n",
            "⟝------------------------------⟞\n",
            "|                               |\n",
            "|                               |\n",
            "|                               |\n",
            "|                               |\n",
            "|                               |\n",
            "HOT americano : 2000원\n",
            "ICE americano : 2000원\n",
            "합계 금액 : 4000 원\n",
            "|                               |\n",
            "|                               |\n",
            "|                               |\n",
            "|                               |\n",
            "|                               |\n",
            "⟝------------------------------⟞\n"
          ]
        }
      ]
    }
  ]
}