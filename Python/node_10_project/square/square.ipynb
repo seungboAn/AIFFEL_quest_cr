{
  "nbformat": 4,
  "nbformat_minor": 0,
  "metadata": {
    "colab": {
      "provenance": []
    },
    "kernelspec": {
      "name": "python3",
      "display_name": "Python 3"
    },
    "language_info": {
      "name": "python"
    }
  },
  "cells": [
    {
      "cell_type": "code",
      "execution_count": 5,
      "metadata": {
        "colab": {
          "base_uri": "https://localhost:8080/"
        },
        "id": "5dG3MQuW1aSA",
        "outputId": "56301cc6-3d1c-4c3e-8578-574324ac369f"
      },
      "outputs": [
        {
          "output_type": "stream",
          "name": "stdout",
          "text": [
            "넓이를 구하고 싶은 사각형의 숫자를 써주세요.\n",
            "1.직사각형 2.평행사변형 3.사다리꼴 \n",
            ">>> 1\n",
            "직사각형 함수는 rect()입니다.\n"
          ]
        }
      ],
      "source": [
        "from square import Square\n",
        "\n",
        "if __name__ == \"__main__\":\n",
        "    square = Square()"
      ]
    },
    {
      "cell_type": "code",
      "source": [
        "square.rect() # 직사각형 : 가로 2, 세로 3 => 6"
      ],
      "metadata": {
        "colab": {
          "base_uri": "https://localhost:8080/",
          "height": 72
        },
        "id": "nH0I_HqW2Am4",
        "outputId": "9cee141b-3e05-44e9-d6d3-6266840c7a42"
      },
      "execution_count": 2,
      "outputs": [
        {
          "name": "stdout",
          "output_type": "stream",
          "text": [
            "가로, 세로를 입력하세요. 예시 : 가로, 세로\n",
            ">>> 2, 3\n"
          ]
        },
        {
          "output_type": "execute_result",
          "data": {
            "text/plain": [
              "'직사각형의 넓이는 : 6'"
            ],
            "application/vnd.google.colaboratory.intrinsic+json": {
              "type": "string"
            }
          },
          "metadata": {},
          "execution_count": 2
        }
      ]
    },
    {
      "cell_type": "code",
      "source": [
        "square.par() # 평행사변형 : 가로 2, 높이 5 => 10"
      ],
      "metadata": {
        "colab": {
          "base_uri": "https://localhost:8080/",
          "height": 72
        },
        "id": "ckjVljs-2GfP",
        "outputId": "37740af5-9e36-44ee-c143-22872201bb1a"
      },
      "execution_count": 3,
      "outputs": [
        {
          "name": "stdout",
          "output_type": "stream",
          "text": [
            "가로, 높이를 입력하세요. 예시 : 가로, 높이\n",
            ">>> 2, 5\n"
          ]
        },
        {
          "output_type": "execute_result",
          "data": {
            "text/plain": [
              "'평행사변형의 넓이는 : 10'"
            ],
            "application/vnd.google.colaboratory.intrinsic+json": {
              "type": "string"
            }
          },
          "metadata": {},
          "execution_count": 3
        }
      ]
    },
    {
      "cell_type": "code",
      "source": [
        "square.trape() # 사다리꼴 : 윗면 4, 밑면 8, 높이 5 => 30"
      ],
      "metadata": {
        "colab": {
          "base_uri": "https://localhost:8080/",
          "height": 72
        },
        "id": "w_mm6D702JRt",
        "outputId": "c28518b4-ef51-4add-ce0b-fbfaa3567a95"
      },
      "execution_count": 4,
      "outputs": [
        {
          "name": "stdout",
          "output_type": "stream",
          "text": [
            "윗면의 길이, 밑면의 길이, 높이를 입력하세요. 예시 : 윗면의 길이, 밑면의 길이, 높이\n",
            ">>> 4, 8, 5\n"
          ]
        },
        {
          "output_type": "execute_result",
          "data": {
            "text/plain": [
              "'사다리꼴의 넓이는 : 30.0'"
            ],
            "application/vnd.google.colaboratory.intrinsic+json": {
              "type": "string"
            }
          },
          "metadata": {},
          "execution_count": 4
        }
      ]
    }
  ]
}